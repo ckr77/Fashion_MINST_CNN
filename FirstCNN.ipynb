{
  "nbformat": 4,
  "nbformat_minor": 0,
  "metadata": {
    "colab": {
      "name": "FirstCNN.ipynb",
      "version": "0.3.2",
      "provenance": [],
      "collapsed_sections": [],
      "toc_visible": true,
      "include_colab_link": true
    },
    "kernelspec": {
      "name": "python3",
      "display_name": "Python 3"
    }
  },
  "cells": [
    {
      "cell_type": "markdown",
      "metadata": {
        "id": "view-in-github",
        "colab_type": "text"
      },
      "source": [
        "[View in Colaboratory](https://colab.research.google.com/github/ckr77/Fashion_MINST_CNN/blob/master/FirstCNN.ipynb)"
      ]
    },
    {
      "metadata": {
        "id": "LzKNLBSEcqdx",
        "colab_type": "code",
        "colab": {}
      },
      "cell_type": "code",
      "source": [
        "!pip install -q -U tensorflow>=1.8.0"
      ],
      "execution_count": 0,
      "outputs": []
    },
    {
      "metadata": {
        "id": "bImNRFuFc4fA",
        "colab_type": "code",
        "colab": {
          "base_uri": "https://localhost:8080/",
          "height": 238
        },
        "outputId": "b3b75738-58c8-4bac-ebdd-d9ae2f8d1ace"
      },
      "cell_type": "code",
      "source": [
        "import tensorflow as tf\n",
        "import numpy as np\n",
        "import matplotlib.pyplot as plt\n",
        "# Load the fashion-mnist pre-shuffled train data and test data\n",
        "(x_train, y_train), (x_test, y_test) = tf.keras.datasets.fashion_mnist.load_data()\n",
        "print(\"x_train shape:\", x_train.shape, \"y_train shape:\", y_train.shape)"
      ],
      "execution_count": 3,
      "outputs": [
        {
          "output_type": "stream",
          "text": [
            "Downloading data from http://fashion-mnist.s3-website.eu-central-1.amazonaws.com/train-labels-idx1-ubyte.gz\n",
            "32768/29515 [=================================] - 0s 5us/step\n",
            "40960/29515 [=========================================] - 0s 4us/step\n",
            "Downloading data from http://fashion-mnist.s3-website.eu-central-1.amazonaws.com/train-images-idx3-ubyte.gz\n",
            "26427392/26421880 [==============================] - 10s 0us/step\n",
            "26435584/26421880 [==============================] - 10s 0us/step\n",
            "Downloading data from http://fashion-mnist.s3-website.eu-central-1.amazonaws.com/t10k-labels-idx1-ubyte.gz\n",
            "16384/5148 [===============================================================================================] - 0s 0us/step\n",
            "Downloading data from http://fashion-mnist.s3-website.eu-central-1.amazonaws.com/t10k-images-idx3-ubyte.gz\n",
            "4423680/4422102 [==============================] - 6s 1us/step\n",
            "4431872/4422102 [==============================] - 6s 1us/step\n",
            "('x_train shape:', (60000, 28, 28), 'y_train shape:', (60000,))\n"
          ],
          "name": "stdout"
        }
      ]
    },
    {
      "metadata": {
        "id": "hxOXket0dSD8",
        "colab_type": "code",
        "colab": {
          "base_uri": "https://localhost:8080/",
          "height": 431
        },
        "outputId": "1f7fbfad-f144-4a26-f5e4-b637ba8c26a5"
      },
      "cell_type": "code",
      "source": [
        "# Print training set shape - note there are 60,000 training data of image size of 28x28, 60,000 train labels)\n",
        "print(\"x_train shape:\", x_train.shape, \"y_train shape:\", y_train.shape)\n",
        "\n",
        "# Print the number of training and test datasets\n",
        "print(x_train.shape[0], 'train set')\n",
        "print(x_test.shape[0], 'test set')\n",
        "\n",
        "# Define the text labels\n",
        "fashion_mnist_labels = [\"T-shirt/top\",  # index 0\n",
        "                        \"Trouser\",      # index 1\n",
        "                        \"Pullover\",     # index 2 \n",
        "                        \"Dress\",        # index 3 \n",
        "                        \"Coat\",         # index 4\n",
        "                        \"Sandal\",       # index 5\n",
        "                        \"Shirt\",        # index 6 \n",
        "                        \"Sneaker\",      # index 7 \n",
        "                        \"Bag\",          # index 8 \n",
        "                        \"Ankle boot\"]   # index 9\n",
        "\n",
        "# Image index, you can pick any number between 0 and 59,999\n",
        "img_index = 5\n",
        "# y_train contains the lables, ranging from 0 to 9\n",
        "label_index = y_train[img_index]\n",
        "# Print the label, for example 2 Pullover\n",
        "print (\"y = \" + str(label_index) + \" \" +(fashion_mnist_labels[label_index]))\n",
        "# # Show one of the images from the training dataset\n",
        "plt.imshow(x_train[img_index])"
      ],
      "execution_count": 4,
      "outputs": [
        {
          "output_type": "stream",
          "text": [
            "('x_train shape:', (60000, 28, 28), 'y_train shape:', (60000,))\n",
            "(60000, 'train set')\n",
            "(10000, 'test set')\n",
            "y = 2 Pullover\n"
          ],
          "name": "stdout"
        },
        {
          "output_type": "execute_result",
          "data": {
            "text/plain": [
              "<matplotlib.image.AxesImage at 0x7f4ea12053d0>"
            ]
          },
          "metadata": {
            "tags": []
          },
          "execution_count": 4
        },
        {
          "output_type": "display_data",
          "data": {
            "image/png": "[encoded data removed]",
            "text/plain": [
              "<matplotlib.figure.Figure at 0x7f4ea16b8590>"
            ]
          },
          "metadata": {
            "tags": []
          }
        }
      ]
    },
    {
      "metadata": {
        "id": "DXWT3PUEd78S",
        "colab_type": "code",
        "colab": {}
      },
      "cell_type": "code",
      "source": [
        "x_train = x_train.astype('float32') / 255\n",
        "x_test = x_test.astype('float32') / 255"
      ],
      "execution_count": 0,
      "outputs": []
    },
    {
      "metadata": {
        "id": "7hDpKQO7eEdi",
        "colab_type": "code",
        "colab": {
          "base_uri": "https://localhost:8080/",
          "height": 50
        },
        "outputId": "162f2782-9afe-403b-8ed8-81df7e98547b"
      },
      "cell_type": "code",
      "source": [
        "print(\"Number of train data - \" + str(len(x_train)))\n",
        "print(\"Number of test data - \" + str(len(x_test)))"
      ],
      "execution_count": 6,
      "outputs": [
        {
          "output_type": "stream",
          "text": [
            "Number of train data - 60000\n",
            "Number of test data - 10000\n"
          ],
          "name": "stdout"
        }
      ]
    },
    {
      "metadata": {
        "id": "5UQFGIpJeNwk",
        "colab_type": "code",
        "colab": {
          "base_uri": "https://localhost:8080/",
          "height": 84
        },
        "outputId": "0e16e8fb-5095-47ec-ccd9-2b6a827d2c32"
      },
      "cell_type": "code",
      "source": [
        "# Further break training data into train / validation sets (# put 5000 into validation set and keep remaining 55,000 for train)\n",
        "(x_train, x_valid) = x_train[5000:], x_train[:5000] \n",
        "(y_train, y_valid) = y_train[5000:], y_train[:5000]\n",
        "\n",
        "# Reshape input data from (28, 28) to (28, 28, 1)\n",
        "w, h = 28, 28\n",
        "x_train = x_train.reshape(x_train.shape[0], w, h, 1)\n",
        "x_valid = x_valid.reshape(x_valid.shape[0], w, h, 1)\n",
        "x_test = x_test.reshape(x_test.shape[0], w, h, 1)\n",
        "\n",
        "# One-hot encode the labels\n",
        "y_train = tf.keras.utils.to_categorical(y_train, 10)\n",
        "y_valid = tf.keras.utils.to_categorical(y_valid, 10)\n",
        "y_test = tf.keras.utils.to_categorical(y_test, 10)\n",
        "\n",
        "# Print training set shape\n",
        "print(\"x_train shape:\", x_train.shape, \"y_train shape:\", y_train.shape)\n",
        "\n",
        "# Print the number of training, validation, and test datasets\n",
        "print(x_train.shape[0], 'train set')\n",
        "print(x_valid.shape[0], 'validation set')\n",
        "print(x_test.shape[0], 'test set')"
      ],
      "execution_count": 7,
      "outputs": [
        {
          "output_type": "stream",
          "text": [
            "('x_train shape:', (55000, 28, 28, 1), 'y_train shape:', (55000, 10))\n",
            "(55000, 'train set')\n",
            "(5000, 'validation set')\n",
            "(10000, 'test set')\n"
          ],
          "name": "stdout"
        }
      ]
    },
    {
      "metadata": {
        "id": "Kf4zey0ReS1q",
        "colab_type": "code",
        "colab": {
          "base_uri": "https://localhost:8080/",
          "height": 470
        },
        "outputId": "8f2e50c7-9adc-42b9-df01-0a698abb5d6d"
      },
      "cell_type": "code",
      "source": [
        "model = tf.keras.Sequential()\n",
        "\n",
        "# Must define the input shape in the first layer of the neural network\n",
        "model.add(tf.keras.layers.Conv2D(filters=64, kernel_size=2, padding='same', activation='relu', input_shape=(28,28,1))) \n",
        "model.add(tf.keras.layers.MaxPooling2D(pool_size=2))\n",
        "model.add(tf.keras.layers.Dropout(0.3))\n",
        "\n",
        "model.add(tf.keras.layers.Conv2D(filters=32, kernel_size=2, padding='same', activation='relu'))\n",
        "model.add(tf.keras.layers.MaxPooling2D(pool_size=2))\n",
        "model.add(tf.keras.layers.Dropout(0.3))\n",
        "\n",
        "model.add(tf.keras.layers.Flatten())\n",
        "model.add(tf.keras.layers.Dense(256, activation='relu'))\n",
        "model.add(tf.keras.layers.Dropout(0.5))\n",
        "model.add(tf.keras.layers.Dense(10, activation='softmax'))\n",
        "\n",
        "# Take a look at the model summary\n",
        "model.summary()"
      ],
      "execution_count": 8,
      "outputs": [
        {
          "output_type": "stream",
          "text": [
            "_________________________________________________________________\n",
            "Layer (type)                 Output Shape              Param #   \n",
            "=================================================================\n",
            "conv2d (Conv2D)              (None, 28, 28, 64)        320       \n",
            "_________________________________________________________________\n",
            "max_pooling2d (MaxPooling2D) (None, 14, 14, 64)        0         \n",
            "_________________________________________________________________\n",
            "dropout (Dropout)            (None, 14, 14, 64)        0         \n",
            "_________________________________________________________________\n",
            "conv2d_1 (Conv2D)            (None, 14, 14, 32)        8224      \n",
            "_________________________________________________________________\n",
            "max_pooling2d_1 (MaxPooling2 (None, 7, 7, 32)          0         \n",
            "_________________________________________________________________\n",
            "dropout_1 (Dropout)          (None, 7, 7, 32)          0         \n",
            "_________________________________________________________________\n",
            "flatten (Flatten)            (None, 1568)              0         \n",
            "_________________________________________________________________\n",
            "dense (Dense)                (None, 256)               401664    \n",
            "_________________________________________________________________\n",
            "dropout_2 (Dropout)          (None, 256)               0         \n",
            "_________________________________________________________________\n",
            "dense_1 (Dense)              (None, 10)                2570      \n",
            "=================================================================\n",
            "Total params: 412,778\n",
            "Trainable params: 412,778\n",
            "Non-trainable params: 0\n",
            "_________________________________________________________________\n"
          ],
          "name": "stdout"
        }
      ]
    },
    {
      "metadata": {
        "id": "q9tMRFm5eZty",
        "colab_type": "code",
        "colab": {}
      },
      "cell_type": "code",
      "source": [
        "model.compile(loss='categorical_crossentropy',\n",
        "             optimizer='adam',\n",
        "             metrics=['accuracy'])"
      ],
      "execution_count": 0,
      "outputs": []
    },
    {
      "metadata": {
        "id": "Mwt667MZeajS",
        "colab_type": "code",
        "colab": {
          "base_uri": "https://localhost:8080/",
          "height": 759
        },
        "outputId": "912b58b8-216f-4781-8566-490cb63b9e63"
      },
      "cell_type": "code",
      "source": [
        "from keras.callbacks import ModelCheckpoint\n",
        "\n",
        "checkpointer = ModelCheckpoint(filepath='model.weights.best.hdf5', verbose = 1, save_best_only=True)\n",
        "model.fit(x_train,\n",
        "         y_train,\n",
        "         batch_size=64,\n",
        "         epochs=10,\n",
        "         validation_data=(x_valid, y_valid),\n",
        "         callbacks=[checkpointer])"
      ],
      "execution_count": 10,
      "outputs": [
        {
          "output_type": "stream",
          "text": [
            "Using TensorFlow backend.\n"
          ],
          "name": "stderr"
        },
        {
          "output_type": "stream",
          "text": [
            "Train on 55000 samples, validate on 5000 samples\n",
            "Epoch 1/10\n",
            "44288/55000 [=======================>......] - ETA: 14s - loss: 0.6371 - acc: 0.7639"
          ],
          "name": "stdout"
        },
        {
          "output_type": "stream",
          "text": [
            "55000/55000 [==============================] - 78s 1ms/step - loss: 0.6015 - acc: 0.7781 - val_loss: 0.3733 - val_acc: 0.8702\n",
            "\n",
            "Epoch 00001: val_loss improved from inf to 0.37329, saving model to model.weights.best.hdf5\n",
            "Epoch 2/10\n",
            "17408/55000 [========>.....................] - ETA: 52s - loss: 0.4231 - acc: 0.8455"
          ],
          "name": "stdout"
        },
        {
          "output_type": "stream",
          "text": [
            "55000/55000 [==============================] - 78s 1ms/step - loss: 0.4138 - acc: 0.8484 - val_loss: 0.3308 - val_acc: 0.8826\n",
            "\n",
            "Epoch 00002: val_loss improved from 0.37329 to 0.33080, saving model to model.weights.best.hdf5\n",
            "Epoch 3/10\n",
            "10112/55000 [====>.........................] - ETA: 1:02 - loss: 0.3970 - acc: 0.8549"
          ],
          "name": "stdout"
        },
        {
          "output_type": "stream",
          "text": [
            "55000/55000 [==============================] - 78s 1ms/step - loss: 0.3738 - acc: 0.8623 - val_loss: 0.2948 - val_acc: 0.8924\n",
            "\n",
            "Epoch 00003: val_loss improved from 0.33080 to 0.29479, saving model to model.weights.best.hdf5\n",
            "Epoch 4/10\n",
            " 8192/55000 [===>..........................] - ETA: 1:05 - loss: 0.3552 - acc: 0.8708"
          ],
          "name": "stdout"
        },
        {
          "output_type": "stream",
          "text": [
            "55000/55000 [==============================] - 78s 1ms/step - loss: 0.3410 - acc: 0.8754 - val_loss: 0.2701 - val_acc: 0.8988\n",
            "\n",
            "Epoch 00004: val_loss improved from 0.29479 to 0.27011, saving model to model.weights.best.hdf5\n",
            "Epoch 5/10\n",
            " 7680/55000 [===>..........................] - ETA: 1:05 - loss: 0.3177 - acc: 0.8792"
          ],
          "name": "stdout"
        },
        {
          "output_type": "stream",
          "text": [
            "55000/55000 [==============================] - 78s 1ms/step - loss: 0.3221 - acc: 0.8815 - val_loss: 0.2737 - val_acc: 0.8978\n",
            "\n",
            "Epoch 00005: val_loss did not improve from 0.27011\n",
            "Epoch 6/10\n",
            " 8768/55000 [===>..........................] - ETA: 1:04 - loss: 0.3054 - acc: 0.8888"
          ],
          "name": "stdout"
        },
        {
          "output_type": "stream",
          "text": [
            "55000/55000 [==============================] - 78s 1ms/step - loss: 0.3069 - acc: 0.8867 - val_loss: 0.2501 - val_acc: 0.9094\n",
            "\n",
            "Epoch 00006: val_loss improved from 0.27011 to 0.25008, saving model to model.weights.best.hdf5\n",
            "Epoch 7/10\n",
            " 7808/55000 [===>..........................] - ETA: 1:05 - loss: 0.2992 - acc: 0.8945"
          ],
          "name": "stdout"
        },
        {
          "output_type": "stream",
          "text": [
            "55000/55000 [==============================] - 78s 1ms/step - loss: 0.2914 - acc: 0.8926 - val_loss: 0.2385 - val_acc: 0.9144\n",
            "\n",
            "Epoch 00007: val_loss improved from 0.25008 to 0.23848, saving model to model.weights.best.hdf5\n",
            "Epoch 8/10\n",
            " 7552/55000 [===>..........................] - ETA: 1:05 - loss: 0.2856 - acc: 0.8930"
          ],
          "name": "stdout"
        },
        {
          "output_type": "stream",
          "text": [
            "55000/55000 [==============================] - 77s 1ms/step - loss: 0.2802 - acc: 0.8954 - val_loss: 0.2346 - val_acc: 0.9126\n",
            "\n",
            "Epoch 00008: val_loss improved from 0.23848 to 0.23462, saving model to model.weights.best.hdf5\n",
            "Epoch 9/10\n",
            " 7488/55000 [===>..........................] - ETA: 1:06 - loss: 0.2768 - acc: 0.8997"
          ],
          "name": "stdout"
        },
        {
          "output_type": "stream",
          "text": [
            "55000/55000 [==============================] - 78s 1ms/step - loss: 0.2753 - acc: 0.9005 - val_loss: 0.2264 - val_acc: 0.9162\n",
            "\n",
            "Epoch 00009: val_loss improved from 0.23462 to 0.22639, saving model to model.weights.best.hdf5\n",
            "Epoch 10/10\n",
            " 7488/55000 [===>..........................] - ETA: 1:06 - loss: 0.2706 - acc: 0.9008"
          ],
          "name": "stdout"
        },
        {
          "output_type": "stream",
          "text": [
            "55000/55000 [==============================] - 78s 1ms/step - loss: 0.2621 - acc: 0.9039 - val_loss: 0.2184 - val_acc: 0.9206\n",
            "\n",
            "Epoch 00010: val_loss improved from 0.22639 to 0.21841, saving model to model.weights.best.hdf5\n"
          ],
          "name": "stdout"
        },
        {
          "output_type": "execute_result",
          "data": {
            "text/plain": [
              "<tensorflow.python.keras.callbacks.History at 0x7f4e9e6ee390>"
            ]
          },
          "metadata": {
            "tags": []
          },
          "execution_count": 10
        }
      ]
    },
    {
      "metadata": {
        "id": "zJeVSrxeeh4m",
        "colab_type": "code",
        "colab": {}
      },
      "cell_type": "code",
      "source": [
        "# Load the weights with the best validation accuracy\n",
        "model.load_weights('model.weights.best.hdf5')"
      ],
      "execution_count": 0,
      "outputs": []
    },
    {
      "metadata": {
        "id": "3fJoA3qNem1z",
        "colab_type": "code",
        "colab": {
          "base_uri": "https://localhost:8080/",
          "height": 34
        },
        "outputId": "8336d8ba-ba33-4e38-8cb4-21530968dcf3"
      },
      "cell_type": "code",
      "source": [
        "# Evaluate the model on test set\n",
        "score = model.evaluate(x_test, y_test, verbose=0)\n",
        "\n",
        "# Print test accuracy\n",
        "print('\\n', 'Test accuracy:', score[1])"
      ],
      "execution_count": 12,
      "outputs": [
        {
          "output_type": "stream",
          "text": [
            "('\\n', 'Test accuracy:', 0.9115)\n"
          ],
          "name": "stdout"
        }
      ]
    },
    {
      "metadata": {
        "id": "7wC0bnpTUZ9C",
        "colab_type": "code",
        "colab": {
          "base_uri": "https://localhost:8080/",
          "height": 501
        },
        "outputId": "7fbfee0b-03c5-45bc-e5ee-e55ccd9d8ac9"
      },
      "cell_type": "code",
      "source": [
        "y_hat = model.predict(x_test)\n",
        "\n",
        "# Plot a random sample of 10 test images, their predicted labels and ground truth\n",
        "figure = plt.figure(figsize=(20, 8))\n",
        "for i, index in enumerate(np.random.choice(x_test.shape[0], size=15, replace=False)):\n",
        "    ax = figure.add_subplot(3, 5, i + 1, xticks=[], yticks=[])\n",
        "    # Display each image\n",
        "    ax.imshow(np.squeeze(x_test[index]))\n",
        "    predict_index = np.argmax(y_hat[index])\n",
        "    true_index = np.argmax(y_test[index])\n",
        "    # Set the title for each image\n",
        "    ax.set_title(\"{} ({})\".format(fashion_mnist_labels[predict_index], \n",
        "                                  fashion_mnist_labels[true_index]),\n",
        "                                  color=(\"green\" if predict_index == true_index else \"red\"))"
      ],
      "execution_count": 14,
      "outputs": [
        {
          "output_type": "display_data",
          "data": {
            "image/png": "[encoded data removed]",
            "text/plain": [
              "<matplotlib.figure.Figure at 0x7f4e9b98db10>"
            ]
          },
          "metadata": {
            "tags": []
          }
        }
      ]
    }
  ]
}